{
 "cells": [
  {
   "attachments": {},
   "cell_type": "markdown",
   "metadata": {},
   "source": [
    "# Ceneo Scraper"
   ]
  },
  {
   "attachments": {},
   "cell_type": "markdown",
   "metadata": {},
   "source": [
    "# Biblioteki"
   ]
  },
  {
   "cell_type": "code",
   "execution_count": 24,
   "metadata": {},
   "outputs": [
    {
     "ename": "ModuleNotFoundError",
     "evalue": "No module named 'requests'",
     "output_type": "error",
     "traceback": [
      "\u001b[1;31m---------------------------------------------------------------------------\u001b[0m",
      "\u001b[1;31mModuleNotFoundError\u001b[0m                       Traceback (most recent call last)",
      "Cell \u001b[1;32mIn[24], line 3\u001b[0m\n\u001b[0;32m      1\u001b[0m \u001b[38;5;28;01mimport\u001b[39;00m \u001b[38;5;21;01mos\u001b[39;00m\n\u001b[0;32m      2\u001b[0m \u001b[38;5;28;01mimport\u001b[39;00m \u001b[38;5;21;01mjson\u001b[39;00m\n\u001b[1;32m----> 3\u001b[0m \u001b[38;5;28;01mimport\u001b[39;00m \u001b[38;5;21;01mrequests\u001b[39;00m\n\u001b[0;32m      4\u001b[0m \u001b[38;5;28;01mfrom\u001b[39;00m \u001b[38;5;21;01mbs4\u001b[39;00m \u001b[38;5;28;01mimport\u001b[39;00m BeautifulSoup\n",
      "\u001b[1;31mModuleNotFoundError\u001b[0m: No module named 'requests'"
     ]
    }
   ],
   "source": [
    "import os\n",
    "import json\n",
    "import requests\n",
    "from bs4 import BeautifulSoup\n"
   ]
  },
  {
   "cell_type": "markdown",
   "metadata": {},
   "source": [
    "## Funkcja do ekstrakcji danych ze strony HTML"
   ]
  },
  {
   "cell_type": "code",
   "execution_count": null,
   "metadata": {},
   "outputs": [],
   "source": [
    "def extract(ancestor, selector=None, attribute=None, returns_list=False):\n",
    "    if selector:\n",
    "        if returns_list:\n",
    "            if attribute:\n",
    "                return [tag[attribute].strip() for tag in ancestor.select(selector)]\n",
    "            return [tag.get_text().strip() for tag in ancestor.select(selector)]\n",
    "        if attribute:\n",
    "            try:\n",
    "                return ancestor.select_one(selector)[attribute].strip()\n",
    "            except TypeError:\n",
    "                return None\n",
    "        try:\n",
    "            return ancestor.select_one(selector).get_text().strip()\n",
    "        except AttributeError:\n",
    "            return None\n",
    "    if attribute:\n",
    "        return ancestor[attribute].strip()\n",
    "    return ancestor.get_text().strip()"
   ]
  },
  {
   "attachments": {},
   "cell_type": "markdown",
   "metadata": {},
   "source": [
    "## Link do pierwszej strony z opiniami o wskazanym produkcie"
   ]
  },
  {
   "cell_type": "code",
   "execution_count": null,
   "metadata": {},
   "outputs": [],
   "source": [
    "product_id = input(\"Proszę podać kod produktu z serwisu Ceneo.pl\")\n",
    "url = f\"https://www.ceneo.pl/{product_id}/opinie-1\""
   ]
  },
  {
   "attachments": {},
   "cell_type": "markdown",
   "metadata": {},
   "source": [
    "## Struktura opinii w serwisie Ceneo.pl\n",
    "\n",
    "|Składowa|Selektor|Zmienna|\n",
    "|--------|--------|-------|\n",
    "|id opinii|[\"data-entry-id\"]|opinion_id|\n",
    "|autor|span.user-post__author-name|author|\n",
    "|rekomendacja|span.user-post__author-recomendation > em|recommendation|\n",
    "|gwiazdki|span.user-post__score-count|rating|\n",
    "|treść|div.user-post__text|content|\n",
    "|lista zalet|div.review-feature__title--positives ~ div.review-feature__item|pros|\n",
    "|lista wad|review-feature__title--negatives|cons|\n",
    "|dla ilu przydatna|span[id^=\"js_vote-yes\"]|useful|\n",
    "|dla ilu nieprzydatna|span[id^=\"js_vote-no\"]|useless|\n",
    "|data wystawienia|span.user-post__published > time:nth-child(1)[\"datetime\"]|post_date|\n",
    "|data zakupu|span.user-post__published > time:nth-child(2)[\"datetime\"]|purchase_date|"
   ]
  },
  {
   "attachments": {},
   "cell_type": "markdown",
   "metadata": {},
   "source": []
  },
  {
   "cell_type": "markdown",
   "metadata": {},
   "source": [
    "## Pobranie wszystkich opinii o wskazanym produkcie"
   ]
  },
  {
   "cell_type": "code",
   "execution_count": null,
   "metadata": {},
   "outputs": [
    {
     "name": "stdout",
     "output_type": "stream",
     "text": [
      "https://www.ceneo.pl/39562616/opinie-1\n",
      "https://www.ceneo.pl/39562616/opinie-2\n",
      "https://www.ceneo.pl/39562616/opinie-3\n",
      "https://www.ceneo.pl/39562616/opinie-4\n",
      "https://www.ceneo.pl/39562616/opinie-5\n",
      "https://www.ceneo.pl/39562616/opinie-6\n",
      "https://www.ceneo.pl/39562616/opinie-7\n",
      "https://www.ceneo.pl/39562616/opinie-8\n",
      "https://www.ceneo.pl/39562616/opinie-9\n",
      "https://www.ceneo.pl/39562616/opinie-10\n",
      "https://www.ceneo.pl/39562616/opinie-11\n",
      "https://www.ceneo.pl/39562616/opinie-12\n",
      "https://www.ceneo.pl/39562616/opinie-13\n",
      "https://www.ceneo.pl/39562616/opinie-14\n"
     ]
    }
   ],
   "source": [
    "all_opinions = []\n",
    "while (url):\n",
    "    print(url)\n",
    "    response = requests.get(url)\n",
    "    page_dom = BeautifulSoup(response.text, \"html.parser\")\n",
    "    opinions = page_dom.select(\"div.js_product-review\")\n",
    "    for opinion in opinions:\n",
    "        single_opinion = {\n",
    "            key: extract(opinion, *value)\n",
    "                for key, value in selectors.items()\n",
    "        }\n",
    "        all_opinions.append(single_opinion)\n",
    "    try:\n",
    "        url = \"https://www.ceneo.pl\"+extract(page_dom, \"a.pagination__next\", \"href\")\n",
    "    except TypeError:\n",
    "        url = None"
   ]
  },
  {
   "cell_type": "markdown",
   "metadata": {},
   "source": [
    "## Słownik reprezentujący strukturę opinii w serwisie Ceneo.pl"
   ]
  },
  {
   "cell_type": "code",
   "execution_count": null,
   "metadata": {},
   "outputs": [],
   "source": [
    "selectors = {\n",
    "    \"opinion_id\" : (None, \"data-entry-id\"),\n",
    "    \"author\" : (\"span.user-post__author-name\",),\n",
    "    \"recommendation\" : (\"span.user-post__author-recomendation > em\",),\n",
    "    \"rating\" : (\"span.user-post__score-count\",),\n",
    "    \"content\" : (\"div.user-post__text\",),\n",
    "    \"pros\" : (\"div.review-feature__title--positives ~ div.review-feature__item\", None, True),\n",
    "    \"cons\" : (\"div.review-feature__title--negatives ~ div.review-feature__item\", None, True),\n",
    "    \"useful\" : (\"span[id^='votes-yes']\",),\n",
    "    \"useless\" : (\"span[id^='votes-no']\",),\n",
    "    \"post_date\" : (\"span.user-post__published > time:nth-child(1)\", \"datetime\"),\n",
    "    \"purchase_date\" : (\"span.user-post__published > time:nth-child(2)\", \"datetime\")\n",
    "    }"
   ]
  },
  {
   "cell_type": "markdown",
   "metadata": {},
   "source": [
    "## Zapis opinii do pliku Json"
   ]
  },
  {
   "cell_type": "code",
   "execution_count": null,
   "metadata": {},
   "outputs": [],
   "source": [
    "if not os.path.exists(\"opinions\"):\n",
    "    os.mkdir(\"opinions\")\n",
    "with open(f\"opinions/{product_id}.json\", \"w\", encoding=\"UTF-8\") as jf:\n",
    "    json.dump(all_opinions, jf, indent=4, ensure_ascii=False)"
   ]
  }
 ],
 "metadata": {
  "kernelspec": {
   "display_name": ".venv",
   "language": "python",
   "name": "python3"
  },
  "language_info": {
   "codemirror_mode": {
    "name": "ipython",
    "version": 3
   },
   "file_extension": ".py",
   "mimetype": "text/x-python",
   "name": "python",
   "nbconvert_exporter": "python",
   "pygments_lexer": "ipython3",
   "version": "3.11.4"
  },
  "orig_nbformat": 4
 },
 "nbformat": 4,
 "nbformat_minor": 2
}
