{
 "cells": [
  {
   "cell_type": "markdown",
   "metadata": {},
   "source": [
    "# Ceneo Analyzer"
   ]
  },
  {
   "cell_type": "markdown",
   "metadata": {},
   "source": [
    "## Biblioteki"
   ]
  },
  {
   "cell_type": "code",
   "execution_count": 5,
   "metadata": {},
   "outputs": [],
   "source": [
    "import os\n",
    "import pandas as pd"
   ]
  },
  {
   "cell_type": "code",
   "execution_count": 11,
   "metadata": {},
   "outputs": [
    {
     "name": "stdout",
     "output_type": "stream",
     "text": [
      "11470014\n",
      "39562616\n"
     ]
    }
   ],
   "source": [
    "print(*[filename.split(\".\")[0] for filename in os.listdir(\"opinions\")], sep=\"\\n\")"
   ]
  },
  {
   "cell_type": "markdown",
   "metadata": {},
   "source": [
    "## Kod produktu, którego opinie mają zostać przeanalizowane"
   ]
  },
  {
   "cell_type": "code",
   "execution_count": 13,
   "metadata": {},
   "outputs": [],
   "source": [
    "product_id = input(\"Proszę podać kod produktu z serwisu Ceneo.pl\")"
   ]
  },
  {
   "cell_type": "markdown",
   "metadata": {},
   "source": [
    "## Wczytanie do obiektu  pandas.DataFrame opinii o wskazanym produkcie"
   ]
  },
  {
   "cell_type": "code",
   "execution_count": 14,
   "metadata": {},
   "outputs": [],
   "source": [
    "opinions = pd.read_json(f\"opinions/{product_id}.json\")"
   ]
  },
  {
   "cell_type": "code",
   "execution_count": 17,
   "metadata": {},
   "outputs": [
    {
     "data": {
      "text/html": [
       "<div>\n",
       "<style scoped>\n",
       "    .dataframe tbody tr th:only-of-type {\n",
       "        vertical-align: middle;\n",
       "    }\n",
       "\n",
       "    .dataframe tbody tr th {\n",
       "        vertical-align: top;\n",
       "    }\n",
       "\n",
       "    .dataframe thead th {\n",
       "        text-align: right;\n",
       "    }\n",
       "</style>\n",
       "<table border=\"1\" class=\"dataframe\">\n",
       "  <thead>\n",
       "    <tr style=\"text-align: right;\">\n",
       "      <th></th>\n",
       "      <th>opinion_id</th>\n",
       "      <th>author</th>\n",
       "      <th>recommendation</th>\n",
       "      <th>rating</th>\n",
       "      <th>content</th>\n",
       "      <th>pros</th>\n",
       "      <th>cons</th>\n",
       "      <th>useful</th>\n",
       "      <th>useless</th>\n",
       "      <th>post_date</th>\n",
       "      <th>purchase_date</th>\n",
       "    </tr>\n",
       "  </thead>\n",
       "  <tbody>\n",
       "    <tr>\n",
       "      <th>0</th>\n",
       "      <td>18536064</td>\n",
       "      <td>A...t</td>\n",
       "      <td>Polecam</td>\n",
       "      <td>5/5</td>\n",
       "      <td>Długo szukałam, sporo filmików na YT o ujrzała...</td>\n",
       "      <td>[]</td>\n",
       "      <td>[]</td>\n",
       "      <td>0</td>\n",
       "      <td>0</td>\n",
       "      <td>2024-03-29 11:14:23</td>\n",
       "      <td>2024-03-17 13:45:25</td>\n",
       "    </tr>\n",
       "    <tr>\n",
       "      <th>1</th>\n",
       "      <td>17516357</td>\n",
       "      <td>g...a</td>\n",
       "      <td>Polecam</td>\n",
       "      <td>5/5</td>\n",
       "      <td>Fantastyczny sprzęt, bardzo mocny, lekki i odp...</td>\n",
       "      <td>[dużo końcówek, poręczny, przycisk zasilania, ...</td>\n",
       "      <td>[]</td>\n",
       "      <td>0</td>\n",
       "      <td>2</td>\n",
       "      <td>2023-05-17 10:52:54</td>\n",
       "      <td>2023-05-12 09:57:19</td>\n",
       "    </tr>\n",
       "    <tr>\n",
       "      <th>2</th>\n",
       "      <td>18499460</td>\n",
       "      <td>j...k</td>\n",
       "      <td>Polecam</td>\n",
       "      <td>4/5</td>\n",
       "      <td>Odkurzacz spełnia wymagania</td>\n",
       "      <td>[dużo końcówek, poręczny, przycisk zasilania, ...</td>\n",
       "      <td>[]</td>\n",
       "      <td>1</td>\n",
       "      <td>0</td>\n",
       "      <td>2024-03-18 08:42:26</td>\n",
       "      <td>2024-03-10 15:49:13</td>\n",
       "    </tr>\n",
       "    <tr>\n",
       "      <th>3</th>\n",
       "      <td>18457506</td>\n",
       "      <td>n...2</td>\n",
       "      <td>Polecam</td>\n",
       "      <td>5/5</td>\n",
       "      <td>Produkt super</td>\n",
       "      <td>[dużo końcówek, lekki, poręczny, przycisk zasi...</td>\n",
       "      <td>[]</td>\n",
       "      <td>0</td>\n",
       "      <td>0</td>\n",
       "      <td>2024-03-04 08:34:36</td>\n",
       "      <td>2024-02-17 16:31:32</td>\n",
       "    </tr>\n",
       "    <tr>\n",
       "      <th>4</th>\n",
       "      <td>16459243</td>\n",
       "      <td>l...i</td>\n",
       "      <td>Polecam</td>\n",
       "      <td>5/5</td>\n",
       "      <td>Mam w domu psa który zrzuca non stop dużo sier...</td>\n",
       "      <td>[dużo końcówek, poręczny, przycisk zasilania, ...</td>\n",
       "      <td>[]</td>\n",
       "      <td>2</td>\n",
       "      <td>0</td>\n",
       "      <td>2022-08-26 11:17:23</td>\n",
       "      <td>2022-08-21 20:00:27</td>\n",
       "    </tr>\n",
       "    <tr>\n",
       "      <th>...</th>\n",
       "      <td>...</td>\n",
       "      <td>...</td>\n",
       "      <td>...</td>\n",
       "      <td>...</td>\n",
       "      <td>...</td>\n",
       "      <td>...</td>\n",
       "      <td>...</td>\n",
       "      <td>...</td>\n",
       "      <td>...</td>\n",
       "      <td>...</td>\n",
       "      <td>...</td>\n",
       "    </tr>\n",
       "    <tr>\n",
       "      <th>177</th>\n",
       "      <td>17545591</td>\n",
       "      <td>J...2</td>\n",
       "      <td>Polecam</td>\n",
       "      <td>5/5</td>\n",
       "      <td>Ok</td>\n",
       "      <td>[]</td>\n",
       "      <td>[]</td>\n",
       "      <td>0</td>\n",
       "      <td>0</td>\n",
       "      <td>2023-05-25 07:24:58</td>\n",
       "      <td>2023-05-07 16:04:38</td>\n",
       "    </tr>\n",
       "    <tr>\n",
       "      <th>178</th>\n",
       "      <td>17448760</td>\n",
       "      <td>b...r</td>\n",
       "      <td>Polecam</td>\n",
       "      <td>5/5</td>\n",
       "      <td>ok</td>\n",
       "      <td>[dużo końcówek, lekki, poręczny, przycisk zasi...</td>\n",
       "      <td>[]</td>\n",
       "      <td>0</td>\n",
       "      <td>0</td>\n",
       "      <td>2023-04-26 21:03:39</td>\n",
       "      <td>2023-04-23 10:00:47</td>\n",
       "    </tr>\n",
       "    <tr>\n",
       "      <th>179</th>\n",
       "      <td>18125745</td>\n",
       "      <td>t...l</td>\n",
       "      <td>Nie polecam</td>\n",
       "      <td>2,5/5</td>\n",
       "      <td>Odkurza dobrze, niestety bardzo szybko rozłado...</td>\n",
       "      <td>[lekki, poręczny, przycisk zasilania, wyświetl...</td>\n",
       "      <td>[wytrzymała bateria]</td>\n",
       "      <td>0</td>\n",
       "      <td>0</td>\n",
       "      <td>2023-11-22 12:40:45</td>\n",
       "      <td>2023-11-10 10:24:44</td>\n",
       "    </tr>\n",
       "    <tr>\n",
       "      <th>180</th>\n",
       "      <td>15826211</td>\n",
       "      <td>Użytkownik Ceneo</td>\n",
       "      <td>Polecam</td>\n",
       "      <td>5/5</td>\n",
       "      <td>Odkurzacz mały, poręczny przy tym posiada bard...</td>\n",
       "      <td>[lekki, poręczny, przycisk zasilania, wyświetl...</td>\n",
       "      <td>[]</td>\n",
       "      <td>0</td>\n",
       "      <td>0</td>\n",
       "      <td>2022-03-15 20:58:40</td>\n",
       "      <td>None</td>\n",
       "    </tr>\n",
       "    <tr>\n",
       "      <th>181</th>\n",
       "      <td>16211151</td>\n",
       "      <td>Mariusz</td>\n",
       "      <td>Nie polecam</td>\n",
       "      <td>1/5</td>\n",
       "      <td>Czy u was jest też taki głośny. Ma w parametra...</td>\n",
       "      <td>[]</td>\n",
       "      <td>[brak]</td>\n",
       "      <td>0</td>\n",
       "      <td>2</td>\n",
       "      <td>2022-06-15 02:37:53</td>\n",
       "      <td>None</td>\n",
       "    </tr>\n",
       "  </tbody>\n",
       "</table>\n",
       "<p>182 rows × 11 columns</p>\n",
       "</div>"
      ],
      "text/plain": [
       "     opinion_id            author recommendation rating  \\\n",
       "0      18536064             A...t        Polecam    5/5   \n",
       "1      17516357             g...a        Polecam    5/5   \n",
       "2      18499460             j...k        Polecam    4/5   \n",
       "3      18457506             n...2        Polecam    5/5   \n",
       "4      16459243             l...i        Polecam    5/5   \n",
       "..          ...               ...            ...    ...   \n",
       "177    17545591             J...2        Polecam    5/5   \n",
       "178    17448760             b...r        Polecam    5/5   \n",
       "179    18125745             t...l    Nie polecam  2,5/5   \n",
       "180    15826211  Użytkownik Ceneo        Polecam    5/5   \n",
       "181    16211151           Mariusz    Nie polecam    1/5   \n",
       "\n",
       "                                               content  \\\n",
       "0    Długo szukałam, sporo filmików na YT o ujrzała...   \n",
       "1    Fantastyczny sprzęt, bardzo mocny, lekki i odp...   \n",
       "2                          Odkurzacz spełnia wymagania   \n",
       "3                                        Produkt super   \n",
       "4    Mam w domu psa który zrzuca non stop dużo sier...   \n",
       "..                                                 ...   \n",
       "177                                                 Ok   \n",
       "178                                                 ok   \n",
       "179  Odkurza dobrze, niestety bardzo szybko rozłado...   \n",
       "180  Odkurzacz mały, poręczny przy tym posiada bard...   \n",
       "181  Czy u was jest też taki głośny. Ma w parametra...   \n",
       "\n",
       "                                                  pros                  cons  \\\n",
       "0                                                   []                    []   \n",
       "1    [dużo końcówek, poręczny, przycisk zasilania, ...                    []   \n",
       "2    [dużo końcówek, poręczny, przycisk zasilania, ...                    []   \n",
       "3    [dużo końcówek, lekki, poręczny, przycisk zasi...                    []   \n",
       "4    [dużo końcówek, poręczny, przycisk zasilania, ...                    []   \n",
       "..                                                 ...                   ...   \n",
       "177                                                 []                    []   \n",
       "178  [dużo końcówek, lekki, poręczny, przycisk zasi...                    []   \n",
       "179  [lekki, poręczny, przycisk zasilania, wyświetl...  [wytrzymała bateria]   \n",
       "180  [lekki, poręczny, przycisk zasilania, wyświetl...                    []   \n",
       "181                                                 []                [brak]   \n",
       "\n",
       "     useful  useless            post_date        purchase_date  \n",
       "0         0        0  2024-03-29 11:14:23  2024-03-17 13:45:25  \n",
       "1         0        2  2023-05-17 10:52:54  2023-05-12 09:57:19  \n",
       "2         1        0  2024-03-18 08:42:26  2024-03-10 15:49:13  \n",
       "3         0        0  2024-03-04 08:34:36  2024-02-17 16:31:32  \n",
       "4         2        0  2022-08-26 11:17:23  2022-08-21 20:00:27  \n",
       "..      ...      ...                  ...                  ...  \n",
       "177       0        0  2023-05-25 07:24:58  2023-05-07 16:04:38  \n",
       "178       0        0  2023-04-26 21:03:39  2023-04-23 10:00:47  \n",
       "179       0        0  2023-11-22 12:40:45  2023-11-10 10:24:44  \n",
       "180       0        0  2022-03-15 20:58:40                 None  \n",
       "181       0        2  2022-06-15 02:37:53                 None  \n",
       "\n",
       "[182 rows x 11 columns]"
      ]
     },
     "execution_count": 17,
     "metadata": {},
     "output_type": "execute_result"
    }
   ],
   "source": [
    "opinions"
   ]
  },
  {
   "cell_type": "markdown",
   "metadata": {},
   "source": [
    "## Podstawowe statystyki zbioru opinii"
   ]
  },
  {
   "cell_type": "code",
   "execution_count": null,
   "metadata": {},
   "outputs": [
    {
     "ename": "SyntaxError",
     "evalue": "invalid syntax. Perhaps you forgot a comma? (2446071036.py, line 1)",
     "output_type": "error",
     "traceback": [
      "\u001b[1;36m  Cell \u001b[1;32mIn[33], line 1\u001b[1;36m\u001b[0m\n\u001b[1;33m    opinions.rating.apply(lamda r: r.split(\"/\")[0].replace(\",\",\".\"),).astype(float)\u001b[0m\n\u001b[1;37m                          ^\u001b[0m\n\u001b[1;31mSyntaxError\u001b[0m\u001b[1;31m:\u001b[0m invalid syntax. Perhaps you forgot a comma?\n"
     ]
    }
   ],
   "source": [
    "opinions.rating.apply(lambda r: r.split(\"/\")[0].replace(\",\",\".\"),).astype(float)"
   ]
  },
  {
   "cell_type": "code",
   "execution_count": 32,
   "metadata": {},
   "outputs": [
    {
     "ename": "NameError",
     "evalue": "name 'c' is not defined",
     "output_type": "error",
     "traceback": [
      "\u001b[1;31m---------------------------------------------------------------------------\u001b[0m",
      "\u001b[1;31mNameError\u001b[0m                                 Traceback (most recent call last)",
      "Cell \u001b[1;32mIn[32], line 3\u001b[0m\n\u001b[0;32m      1\u001b[0m opinions_count \u001b[38;5;241m=\u001b[39m  opinions\u001b[38;5;241m.\u001b[39mshape[\u001b[38;5;241m0\u001b[39m]\n\u001b[0;32m      2\u001b[0m pros_count \u001b[38;5;241m=\u001b[39m opinions\u001b[38;5;241m.\u001b[39mpros\u001b[38;5;241m.\u001b[39mapply(\u001b[38;5;28;01mlambda\u001b[39;00m p: \u001b[38;5;241m1\u001b[39m \u001b[38;5;28;01mif\u001b[39;00m p \u001b[38;5;28;01melse\u001b[39;00m \u001b[38;5;241m0\u001b[39m)\u001b[38;5;241m.\u001b[39msum()\n\u001b[1;32m----> 3\u001b[0m cons_count \u001b[38;5;241m=\u001b[39m \u001b[43mopinions\u001b[49m\u001b[38;5;241;43m.\u001b[39;49m\u001b[43mcons\u001b[49m\u001b[38;5;241;43m.\u001b[39;49m\u001b[43mapply\u001b[49m\u001b[43m(\u001b[49m\u001b[38;5;28;43;01mlambda\u001b[39;49;00m\u001b[43m \u001b[49m\u001b[43mp\u001b[49m\u001b[43m:\u001b[49m\u001b[43m \u001b[49m\u001b[38;5;241;43m1\u001b[39;49m\u001b[43m \u001b[49m\u001b[38;5;28;43;01mif\u001b[39;49;00m\u001b[43m \u001b[49m\u001b[43mc\u001b[49m\u001b[43m \u001b[49m\u001b[38;5;28;43;01melse\u001b[39;49;00m\u001b[43m \u001b[49m\u001b[38;5;241;43m0\u001b[39;49m\u001b[43m)\u001b[49m\u001b[38;5;241m.\u001b[39msum()\n\u001b[0;32m      4\u001b[0m average_rating \u001b[38;5;241m=\u001b[39m opinions\u001b[38;5;241m.\u001b[39mrating\u001b[38;5;241m.\u001b[39mmean()\n",
      "File \u001b[1;32mc:\\ProgramData\\anaconda3\\Lib\\site-packages\\pandas\\core\\series.py:4630\u001b[0m, in \u001b[0;36mSeries.apply\u001b[1;34m(self, func, convert_dtype, args, **kwargs)\u001b[0m\n\u001b[0;32m   4520\u001b[0m \u001b[38;5;28;01mdef\u001b[39;00m \u001b[38;5;21mapply\u001b[39m(\n\u001b[0;32m   4521\u001b[0m     \u001b[38;5;28mself\u001b[39m,\n\u001b[0;32m   4522\u001b[0m     func: AggFuncType,\n\u001b[1;32m   (...)\u001b[0m\n\u001b[0;32m   4525\u001b[0m     \u001b[38;5;241m*\u001b[39m\u001b[38;5;241m*\u001b[39mkwargs,\n\u001b[0;32m   4526\u001b[0m ) \u001b[38;5;241m-\u001b[39m\u001b[38;5;241m>\u001b[39m DataFrame \u001b[38;5;241m|\u001b[39m Series:\n\u001b[0;32m   4527\u001b[0m \u001b[38;5;250m    \u001b[39m\u001b[38;5;124;03m\"\"\"\u001b[39;00m\n\u001b[0;32m   4528\u001b[0m \u001b[38;5;124;03m    Invoke function on values of Series.\u001b[39;00m\n\u001b[0;32m   4529\u001b[0m \n\u001b[1;32m   (...)\u001b[0m\n\u001b[0;32m   4628\u001b[0m \u001b[38;5;124;03m    dtype: float64\u001b[39;00m\n\u001b[0;32m   4629\u001b[0m \u001b[38;5;124;03m    \"\"\"\u001b[39;00m\n\u001b[1;32m-> 4630\u001b[0m     \u001b[38;5;28;01mreturn\u001b[39;00m \u001b[43mSeriesApply\u001b[49m\u001b[43m(\u001b[49m\u001b[38;5;28;43mself\u001b[39;49m\u001b[43m,\u001b[49m\u001b[43m \u001b[49m\u001b[43mfunc\u001b[49m\u001b[43m,\u001b[49m\u001b[43m \u001b[49m\u001b[43mconvert_dtype\u001b[49m\u001b[43m,\u001b[49m\u001b[43m \u001b[49m\u001b[43margs\u001b[49m\u001b[43m,\u001b[49m\u001b[43m \u001b[49m\u001b[43mkwargs\u001b[49m\u001b[43m)\u001b[49m\u001b[38;5;241;43m.\u001b[39;49m\u001b[43mapply\u001b[49m\u001b[43m(\u001b[49m\u001b[43m)\u001b[49m\n",
      "File \u001b[1;32mc:\\ProgramData\\anaconda3\\Lib\\site-packages\\pandas\\core\\apply.py:1025\u001b[0m, in \u001b[0;36mSeriesApply.apply\u001b[1;34m(self)\u001b[0m\n\u001b[0;32m   1022\u001b[0m     \u001b[38;5;28;01mreturn\u001b[39;00m \u001b[38;5;28mself\u001b[39m\u001b[38;5;241m.\u001b[39mapply_str()\n\u001b[0;32m   1024\u001b[0m \u001b[38;5;66;03m# self.f is Callable\u001b[39;00m\n\u001b[1;32m-> 1025\u001b[0m \u001b[38;5;28;01mreturn\u001b[39;00m \u001b[38;5;28;43mself\u001b[39;49m\u001b[38;5;241;43m.\u001b[39;49m\u001b[43mapply_standard\u001b[49m\u001b[43m(\u001b[49m\u001b[43m)\u001b[49m\n",
      "File \u001b[1;32mc:\\ProgramData\\anaconda3\\Lib\\site-packages\\pandas\\core\\apply.py:1076\u001b[0m, in \u001b[0;36mSeriesApply.apply_standard\u001b[1;34m(self)\u001b[0m\n\u001b[0;32m   1074\u001b[0m     \u001b[38;5;28;01melse\u001b[39;00m:\n\u001b[0;32m   1075\u001b[0m         values \u001b[38;5;241m=\u001b[39m obj\u001b[38;5;241m.\u001b[39mastype(\u001b[38;5;28mobject\u001b[39m)\u001b[38;5;241m.\u001b[39m_values\n\u001b[1;32m-> 1076\u001b[0m         mapped \u001b[38;5;241m=\u001b[39m \u001b[43mlib\u001b[49m\u001b[38;5;241;43m.\u001b[39;49m\u001b[43mmap_infer\u001b[49m\u001b[43m(\u001b[49m\n\u001b[0;32m   1077\u001b[0m \u001b[43m            \u001b[49m\u001b[43mvalues\u001b[49m\u001b[43m,\u001b[49m\n\u001b[0;32m   1078\u001b[0m \u001b[43m            \u001b[49m\u001b[43mf\u001b[49m\u001b[43m,\u001b[49m\n\u001b[0;32m   1079\u001b[0m \u001b[43m            \u001b[49m\u001b[43mconvert\u001b[49m\u001b[38;5;241;43m=\u001b[39;49m\u001b[38;5;28;43mself\u001b[39;49m\u001b[38;5;241;43m.\u001b[39;49m\u001b[43mconvert_dtype\u001b[49m\u001b[43m,\u001b[49m\n\u001b[0;32m   1080\u001b[0m \u001b[43m        \u001b[49m\u001b[43m)\u001b[49m\n\u001b[0;32m   1082\u001b[0m \u001b[38;5;28;01mif\u001b[39;00m \u001b[38;5;28mlen\u001b[39m(mapped) \u001b[38;5;129;01mand\u001b[39;00m \u001b[38;5;28misinstance\u001b[39m(mapped[\u001b[38;5;241m0\u001b[39m], ABCSeries):\n\u001b[0;32m   1083\u001b[0m     \u001b[38;5;66;03m# GH#43986 Need to do list(mapped) in order to get treated as nested\u001b[39;00m\n\u001b[0;32m   1084\u001b[0m     \u001b[38;5;66;03m#  See also GH#25959 regarding EA support\u001b[39;00m\n\u001b[0;32m   1085\u001b[0m     \u001b[38;5;28;01mreturn\u001b[39;00m obj\u001b[38;5;241m.\u001b[39m_constructor_expanddim(\u001b[38;5;28mlist\u001b[39m(mapped), index\u001b[38;5;241m=\u001b[39mobj\u001b[38;5;241m.\u001b[39mindex)\n",
      "File \u001b[1;32mc:\\ProgramData\\anaconda3\\Lib\\site-packages\\pandas\\_libs\\lib.pyx:2834\u001b[0m, in \u001b[0;36mpandas._libs.lib.map_infer\u001b[1;34m()\u001b[0m\n",
      "Cell \u001b[1;32mIn[32], line 3\u001b[0m, in \u001b[0;36m<lambda>\u001b[1;34m(p)\u001b[0m\n\u001b[0;32m      1\u001b[0m opinions_count \u001b[38;5;241m=\u001b[39m  opinions\u001b[38;5;241m.\u001b[39mshape[\u001b[38;5;241m0\u001b[39m]\n\u001b[0;32m      2\u001b[0m pros_count \u001b[38;5;241m=\u001b[39m opinions\u001b[38;5;241m.\u001b[39mpros\u001b[38;5;241m.\u001b[39mapply(\u001b[38;5;28;01mlambda\u001b[39;00m p: \u001b[38;5;241m1\u001b[39m \u001b[38;5;28;01mif\u001b[39;00m p \u001b[38;5;28;01melse\u001b[39;00m \u001b[38;5;241m0\u001b[39m)\u001b[38;5;241m.\u001b[39msum()\n\u001b[1;32m----> 3\u001b[0m cons_count \u001b[38;5;241m=\u001b[39m opinions\u001b[38;5;241m.\u001b[39mcons\u001b[38;5;241m.\u001b[39mapply(\u001b[38;5;28;01mlambda\u001b[39;00m p: \u001b[38;5;241m1\u001b[39m \u001b[38;5;28;01mif\u001b[39;00m \u001b[43mc\u001b[49m \u001b[38;5;28;01melse\u001b[39;00m \u001b[38;5;241m0\u001b[39m)\u001b[38;5;241m.\u001b[39msum()\n\u001b[0;32m      4\u001b[0m average_rating \u001b[38;5;241m=\u001b[39m opinions\u001b[38;5;241m.\u001b[39mrating\u001b[38;5;241m.\u001b[39mmean()\n",
      "\u001b[1;31mNameError\u001b[0m: name 'c' is not defined"
     ]
    }
   ],
   "source": [
    "opinions_count =  opinions.shape[0]\n",
    "pros_count = opinions.pros.apply(lambda p: 1 if p else 0).sum()\n",
    "cons_count = opinions.cons.apply(lambda p: 1 if c else 0).sum()\n",
    "average_rating = opinions.rating.mean()"
   ]
  },
  {
   "cell_type": "code",
   "execution_count": 31,
   "metadata": {},
   "outputs": [
    {
     "ename": "NameError",
     "evalue": "name 'average_rating' is not defined",
     "output_type": "error",
     "traceback": [
      "\u001b[1;31m---------------------------------------------------------------------------\u001b[0m",
      "\u001b[1;31mNameError\u001b[0m                                 Traceback (most recent call last)",
      "Cell \u001b[1;32mIn[31], line 1\u001b[0m\n\u001b[1;32m----> 1\u001b[0m \u001b[43maverage_rating\u001b[49m\n",
      "\u001b[1;31mNameError\u001b[0m: name 'average_rating' is not defined"
     ]
    }
   ],
   "source": [
    "average_rating"
   ]
  },
  {
   "cell_type": "code",
   "execution_count": 30,
   "metadata": {},
   "outputs": [
    {
     "data": {
      "text/plain": [
       "0                                                     []\n",
       "1      [dużo końcówek, poręczny, przycisk zasilania, ...\n",
       "2      [dużo końcówek, poręczny, przycisk zasilania, ...\n",
       "3      [dużo końcówek, lekki, poręczny, przycisk zasi...\n",
       "4      [dużo końcówek, poręczny, przycisk zasilania, ...\n",
       "                             ...                        \n",
       "177                                                   []\n",
       "178    [dużo końcówek, lekki, poręczny, przycisk zasi...\n",
       "179    [lekki, poręczny, przycisk zasilania, wyświetl...\n",
       "180    [lekki, poręczny, przycisk zasilania, wyświetl...\n",
       "181                                                   []\n",
       "Name: pros, Length: 182, dtype: object"
      ]
     },
     "execution_count": 30,
     "metadata": {},
     "output_type": "execute_result"
    }
   ],
   "source": [
    "opinions.pros\n",
    "opinions['pros']"
   ]
  }
 ],
 "metadata": {
  "kernelspec": {
   "display_name": "base",
   "language": "python",
   "name": "python3"
  },
  "language_info": {
   "codemirror_mode": {
    "name": "ipython",
    "version": 3
   },
   "file_extension": ".py",
   "mimetype": "text/x-python",
   "name": "python",
   "nbconvert_exporter": "python",
   "pygments_lexer": "ipython3",
   "version": "3.11.5"
  }
 },
 "nbformat": 4,
 "nbformat_minor": 2
}
